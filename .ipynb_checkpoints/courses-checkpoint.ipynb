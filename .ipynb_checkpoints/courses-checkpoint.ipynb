{
 "cells": [
  {
   "cell_type": "markdown",
   "metadata": {},
   "source": [
    "# Courses Demo\n",
    "This Jupyter notebook is for exploring the data set courses20-21.json\n",
    "which consists of all Brandeis courses in the 20-21 academic year (Fall20, Spr21, Sum21) \n",
    "which had at least 1 student enrolled.\n",
    "\n",
    "First we need to read the json file into a list of Python dictionaries"
   ]
  },
  {
   "cell_type": "code",
   "execution_count": 1,
   "metadata": {},
   "outputs": [],
   "source": [
    "import json"
   ]
  },
  {
   "cell_type": "code",
   "execution_count": 2,
   "metadata": {},
   "outputs": [],
   "source": [
    "with open(\"courses20-21.json\",\"r\",encoding='utf-8') as jsonfile:\n",
    "    courses = json.load(jsonfile)"
   ]
  },
  {
   "cell_type": "markdown",
   "metadata": {},
   "source": [
    "## Structure of a course\n",
    "Next we look at the fields of each course dictionary and their values"
   ]
  },
  {
   "cell_type": "code",
   "execution_count": 3,
   "metadata": {},
   "outputs": [
    {
     "name": "stdout",
     "output_type": "stream",
     "text": [
      "there are 7813 courses in the dataset\n",
      "here is the data for course 1246\n"
     ]
    },
    {
     "data": {
      "text/plain": [
       "{'limit': 28,\n",
       " 'times': [{'start': 1080, 'end': 1170, 'days': ['w', 'm']}],\n",
       " 'enrolled': 4,\n",
       " 'details': 'Instruction for this course will be offered remotely. Meeting times for this course are listed in the schedule of classes (in ET).',\n",
       " 'type': 'section',\n",
       " 'status_text': 'Open',\n",
       " 'section': '1',\n",
       " 'waiting': 0,\n",
       " 'instructor': ['An', 'Huang', 'anhuang@brandeis.edu'],\n",
       " 'coinstructors': [],\n",
       " 'code': ['MATH', '223A'],\n",
       " 'subject': 'MATH',\n",
       " 'coursenum': '223A',\n",
       " 'name': 'Lie Algebras: Representation Theory',\n",
       " 'independent_study': False,\n",
       " 'term': '1203',\n",
       " 'description': \"Theorems of Engel and Lie. Semisimple Lie algebras, Cartan's criterion. Universal enveloping algebras, PBW theorem, Serre's construction. Representation theory. Other topics as time permits. Usually offered every second year.\\nAn Huang\"}"
      ]
     },
     "execution_count": 3,
     "metadata": {},
     "output_type": "execute_result"
    }
   ],
   "source": [
    "print('there are',len(courses),'courses in the dataset')\n",
    "print('here is the data for course 1246')\n",
    "courses[1246]"
   ]
  },
  {
   "cell_type": "markdown",
   "metadata": {},
   "source": [
    "## Cleaning the data\n",
    "If we want to sort courses by instructor or by code, we need to replace the lists with tuples (which are immutable lists)"
   ]
  },
  {
   "cell_type": "code",
   "execution_count": 4,
   "metadata": {},
   "outputs": [],
   "source": [
    "for course in courses:\n",
    "        course['instructor'] = tuple(course['instructor'])\n",
    "        course['coinstructors'] = tuple([tuple(f) for f in course['coinstructors']])\n",
    "        course['code']= tuple(course['code'])"
   ]
  },
  {
   "cell_type": "code",
   "execution_count": 5,
   "metadata": {},
   "outputs": [
    {
     "name": "stdout",
     "output_type": "stream",
     "text": [
      "notice that the instructor and code are tuples now\n"
     ]
    },
    {
     "data": {
      "text/plain": [
       "{'limit': 28,\n",
       " 'times': [{'start': 1080, 'end': 1170, 'days': ['w', 'm']}],\n",
       " 'enrolled': 4,\n",
       " 'details': 'Instruction for this course will be offered remotely. Meeting times for this course are listed in the schedule of classes (in ET).',\n",
       " 'type': 'section',\n",
       " 'status_text': 'Open',\n",
       " 'section': '1',\n",
       " 'waiting': 0,\n",
       " 'instructor': ('An', 'Huang', 'anhuang@brandeis.edu'),\n",
       " 'coinstructors': (),\n",
       " 'code': ('MATH', '223A'),\n",
       " 'subject': 'MATH',\n",
       " 'coursenum': '223A',\n",
       " 'name': 'Lie Algebras: Representation Theory',\n",
       " 'independent_study': False,\n",
       " 'term': '1203',\n",
       " 'description': \"Theorems of Engel and Lie. Semisimple Lie algebras, Cartan's criterion. Universal enveloping algebras, PBW theorem, Serre's construction. Representation theory. Other topics as time permits. Usually offered every second year.\\nAn Huang\"}"
      ]
     },
     "execution_count": 5,
     "metadata": {},
     "output_type": "execute_result"
    }
   ],
   "source": [
    "print('notice that the instructor and code are tuples now')\n",
    "courses[1246]"
   ]
  },
  {
   "cell_type": "markdown",
   "metadata": {},
   "source": [
    "# Exploring the data set\n",
    "Now we will show how to use straight python to explore the data set and answer some interesting questions. Next week we will start learning Pandas/Numpy which are packages that make it easier to explore large dataset efficiently.\n",
    "\n",
    "Here are some questions we can try to asnwer:\n",
    "* what are all of the subjects of courses (e.g. COSI, MATH, JAPN, PHIL, ...)\n",
    "* which terms are represented?\n",
    "* how many instructors taught at Brandeis last year?\n",
    "* what were the five largest course sections?\n",
    "* what were the five largest courses (where we combine sections)?\n",
    "* which are the five largest subjects measured by number of courses offered?\n",
    "* which are the five largest courses measured by number of students taught?\n",
    "* which course had the most sections taught in 20-21?\n",
    "* who are the top five faculty in terms of number of students taught?\n",
    "* etc."
   ]
  },
  {
   "cell_type": "code",
   "execution_count": 6,
   "metadata": {},
   "outputs": [
    {
     "data": {
      "text/plain": [
       "120"
      ]
     },
     "execution_count": 6,
     "metadata": {},
     "output_type": "execute_result"
    }
   ],
   "source": [
    "len({c['subject'] for c in courses})"
   ]
  },
  {
   "cell_type": "code",
   "execution_count": 7,
   "metadata": {},
   "outputs": [
    {
     "data": {
      "text/plain": [
       "904"
      ]
     },
     "execution_count": 7,
     "metadata": {},
     "output_type": "execute_result"
    }
   ],
   "source": [
    "len({c['instructor'] for c in courses})"
   ]
  },
  {
   "cell_type": "code",
   "execution_count": 8,
   "metadata": {},
   "outputs": [
    {
     "data": {
      "text/plain": [
       "{'AAAS',\n",
       " 'AAAS/HIS',\n",
       " 'AAAS/WGS',\n",
       " 'AAPI',\n",
       " 'AAPI/HIS',\n",
       " 'AAPI/WGS',\n",
       " 'AAS/AAPI',\n",
       " 'AMST',\n",
       " 'AMST/ENG',\n",
       " 'AMST/MUS',\n",
       " 'ANTH',\n",
       " 'ANTH/WGS',\n",
       " 'ARBC',\n",
       " 'BCBP',\n",
       " 'BCHM',\n",
       " 'BIBC',\n",
       " 'BIOL',\n",
       " 'BIOT',\n",
       " 'BIPH',\n",
       " 'BISC',\n",
       " 'BUS',\n",
       " 'BUS/ECON',\n",
       " 'BUS/FIN',\n",
       " 'CA',\n",
       " 'CAST',\n",
       " 'CBIO',\n",
       " 'CHEM',\n",
       " 'CHIN',\n",
       " 'CHSC',\n",
       " 'CLAS',\n",
       " 'CLAS/ENG',\n",
       " 'CLAS/NEJ',\n",
       " 'COMH',\n",
       " 'COML',\n",
       " 'COMP',\n",
       " 'COSI',\n",
       " 'EAS',\n",
       " 'EBIO',\n",
       " 'ECON',\n",
       " 'ECON/FIN',\n",
       " 'ECS',\n",
       " 'ECS/ENG',\n",
       " 'ED',\n",
       " 'EL',\n",
       " 'ENG',\n",
       " 'ENVS',\n",
       " 'ESL',\n",
       " 'FA',\n",
       " 'FILM',\n",
       " 'FIN',\n",
       " 'FREN',\n",
       " 'GECS',\n",
       " 'GER',\n",
       " 'GRK',\n",
       " 'GS',\n",
       " 'HBRW',\n",
       " 'HISP',\n",
       " 'HIST',\n",
       " 'HIST/SOC',\n",
       " 'HIST/WGS',\n",
       " 'HOID',\n",
       " 'HRNS',\n",
       " 'HS',\n",
       " 'HS/POL',\n",
       " 'HSSP',\n",
       " 'HUM',\n",
       " 'HUM/UWS',\n",
       " 'HWL',\n",
       " 'IGS',\n",
       " 'IIM',\n",
       " 'IMES',\n",
       " 'INT',\n",
       " 'ITAL',\n",
       " 'JAPN',\n",
       " 'JOUR',\n",
       " 'KOR',\n",
       " 'LALS',\n",
       " 'LAT',\n",
       " 'LGLS',\n",
       " 'LING',\n",
       " 'MATH',\n",
       " 'MERS',\n",
       " 'MUS',\n",
       " 'NBIO',\n",
       " 'NEJS',\n",
       " 'NEUR',\n",
       " 'NPSY',\n",
       " 'PAX',\n",
       " 'PHIL',\n",
       " 'PHYS',\n",
       " 'PMED',\n",
       " 'POL',\n",
       " 'POL/WGS',\n",
       " 'PSYC',\n",
       " 'QBIO',\n",
       " 'QR',\n",
       " 'RBIF',\n",
       " 'RBOT',\n",
       " 'RCOM',\n",
       " 'RDFT',\n",
       " 'RDMD',\n",
       " 'RECS',\n",
       " 'RECS/THA',\n",
       " 'REL',\n",
       " 'RHIN',\n",
       " 'RIAS',\n",
       " 'RIDT',\n",
       " 'RMGT',\n",
       " 'RPJM',\n",
       " 'RSAN',\n",
       " 'RSEG',\n",
       " 'RUCD',\n",
       " 'RUS',\n",
       " 'SAS',\n",
       " 'SJSP',\n",
       " 'SOC',\n",
       " 'THA',\n",
       " 'UWS',\n",
       " 'WGS',\n",
       " 'YDSH'}"
      ]
     },
     "execution_count": 8,
     "metadata": {},
     "output_type": "execute_result"
    }
   ],
   "source": [
    "{c['subject']for c in courses}"
   ]
  },
  {
   "cell_type": "code",
   "execution_count": 9,
   "metadata": {},
   "outputs": [
    {
     "data": {
      "text/plain": [
       "{'1203', '1211', '1212'}"
      ]
     },
     "execution_count": 9,
     "metadata": {},
     "output_type": "execute_result"
    }
   ],
   "source": [
    "{c['term']for c in courses}"
   ]
  },
  {
   "cell_type": "code",
   "execution_count": 10,
   "metadata": {},
   "outputs": [
    {
     "data": {
      "text/plain": [
       "[(784, 'Introduction to Navigating Health and Safety'),\n",
       " (186, 'Organic Chemistry I'),\n",
       " (186, 'Physiology'),\n",
       " (181, 'Cells and Organisms'),\n",
       " (180, 'Organic Chemistry II')]"
      ]
     },
     "execution_count": 10,
     "metadata": {},
     "output_type": "execute_result"
    }
   ],
   "source": [
    "enrollment = sorted(courses, key = lambda course: -course['enrolled'])\n",
    "[(courses['enrolled'], courses['name']) for courses in enrollment[:5]]"
   ]
  },
  {
   "cell_type": "markdown",
   "metadata": {},
   "source": [
    "**<h1>Matthew</h1>**\n",
    "list the top 20 faculty in terms of number of students they taught\n",
    "\n",
    "list the top 20 courses in terms of number of students taking that course (where you combine different sections and semesters, i.e. just use the subject and course number)\n",
    "\n",
    "Create your own interesting question (each team member creates their own) and use Python to answer that question.\n",
    "\n",
    "Create your own filter (each team member creates their own\n"
   ]
  },
  {
   "cell_type": "code",
   "execution_count": 116,
   "metadata": {},
   "outputs": [
    {
     "data": {
      "text/plain": [
       "[('Leah', 'Berkenwald', 'leahb@brandeis.edu'),\n",
       " ('Stephanie', 'Murray', 'murray@brandeis.edu'),\n",
       " ('Maria', 'de Boef Miara', 'mmiara@brandeis.edu'),\n",
       " ('Maria', 'de Boef Miara', 'mmiara@brandeis.edu'),\n",
       " ('Stephanie', 'Murray', 'murray@brandeis.edu'),\n",
       " ('Stuart', 'Altman', 'altman@brandeis.edu'),\n",
       " ('Anne S', 'Berry', 'anneberry@brandeis.edu'),\n",
       " ('Ellen J', 'Wright', 'ejwright@brandeis.edu'),\n",
       " ('Timothy J', 'Hickey', 'tjhickey@brandeis.edu'),\n",
       " ('Timothy J', 'Hickey', 'tjhickey@brandeis.edu'),\n",
       " ('Daniel', 'Breen', 'dbreen91@brandeis.edu'),\n",
       " ('Dan L', 'Perlman', 'perlman@brandeis.edu'),\n",
       " ('Colleen', 'Hitchcock', 'hitchcock@brandeis.edu'),\n",
       " ('Teresa Vann', 'Mitchell', 'tmitch@brandeis.edu'),\n",
       " ('Jennifer', 'Gutsell', 'jgutsell@brandeis.edu'),\n",
       " ('Peter', 'Mistark', 'pmistark@brandeis.edu'),\n",
       " ('Peter', 'Mistark', 'pmistark@brandeis.edu'),\n",
       " ('Michael Thomas', 'Marr', 'mmarr@brandeis.edu'),\n",
       " ('Paul', 'DiZio', 'dizio@brandeis.edu'),\n",
       " ('Geoffrey', 'Clarke', 'geoffclarke@brandeis.edu')]"
      ]
     },
     "execution_count": 116,
     "metadata": {},
     "output_type": "execute_result"
    }
   ],
   "source": [
    "faculty = sorted(courses, key = lambda course: -course['enrolled'])\n",
    "numperProf = [(sum(courses['enrolled'] for course in courses if courses['instructor'] == faculty), courses['instructor']) for courses in faculty]\n",
    "numperProf.sort(key = lambda pair: -pair[0])\n",
    "([professor for (number, professor) in numperProf[:20]])"
   ]
  },
  {
   "cell_type": "code",
   "execution_count": 12,
   "metadata": {},
   "outputs": [
    {
     "data": {
      "text/plain": [
       "[('HWL', '1-PRE'),\n",
       " ('CHEM', '25A'),\n",
       " ('BIOL', '42A'),\n",
       " ('BIOL', '15B'),\n",
       " ('CHEM', '25B')]"
      ]
     },
     "execution_count": 12,
     "metadata": {},
     "output_type": "execute_result"
    }
   ],
   "source": [
    "enrollment = sorted(courses, key = lambda course: -course['enrolled'])\n",
    "[(courses['subject'], courses['coursenum']) for courses in enrollment[:5]]"
   ]
  },
  {
   "cell_type": "markdown",
   "metadata": {},
   "source": [
    "Interesting question: Only find classes that are open"
   ]
  },
  {
   "cell_type": "code",
   "execution_count": 55,
   "metadata": {},
   "outputs": [
    {
     "data": {
      "text/plain": [
       "[('Global Dexterity', 'Open'),\n",
       " ('Information Visualization', 'Open'),\n",
       " ('Sales and Sales Management', 'Open'),\n",
       " ('Corporate Financial Modeling', 'Open'),\n",
       " ('Technical Analysis', 'Open'),\n",
       " ('Python and Applications to Business Analytics', 'Open'),\n",
       " ('Python and Applications to Business Analytics II', 'Open'),\n",
       " ('Jewish Community and Jewish Identity', 'Open'),\n",
       " ('Real Estate Finance', 'Open'),\n",
       " ('Private Equity', 'Open'),\n",
       " ('Measurement of Inequality to Health and Development', 'Open'),\n",
       " ('Coexistence Research Methods', 'Open'),\n",
       " ('Democracy and Development', 'Open'),\n",
       " ('Evaluating Survey Data Using Stata: Questioning Answers', 'Open'),\n",
       " ('Introduction to Geographic Information Systems', 'Open'),\n",
       " ('Labor Income, Labor Power, and Labor Markets', 'Open'),\n",
       " ('Introduction to Microeconomics in Global Health', 'Open'),\n",
       " ('Multilevel Modeling Methods', 'Open'),\n",
       " ('Cost-Effectiveness', 'Open'),\n",
       " ('Kingian Nonviolence and Reconciliation', 'Open')]"
      ]
     },
     "execution_count": 55,
     "metadata": {},
     "output_type": "execute_result"
    }
   ],
   "source": [
    "[(c['name'], c['status_text']) for c in courses if c['status_text'] == \"Open\"][:20]"
   ]
  },
  {
   "cell_type": "markdown",
   "metadata": {
    "tags": []
   },
   "source": [
    "<h1>Pedro</h1>\n",
    "Create your own interesting question (each team member creates their own) and use Python to answer that question. (Choosing two Professors, compare the classes the professor taught?)"
   ]
  },
  {
   "cell_type": "code",
   "execution_count": 28,
   "metadata": {},
   "outputs": [
    {
     "name": "stdin",
     "output_type": "stream",
     "text": [
      "First Professor? Hickey\n",
      "Second Professor? Bayone\n"
     ]
    },
    {
     "name": "stdout",
     "output_type": "stream",
     "text": [
      "Hickey: \n",
      "{'COSI 10A Introduction to Problem Solving in Python', 'COSI 210A Independent Study', \"COSI 300B Master's Project\", \"COSI 300A Master's Project\", 'COSI 400D Dissertation Research', 'COSI 98A Independent Study', 'COSI 200A Readings', 'COSI 93A Research Internship and Analysis', 'COSI 98B Independent Study', 'COSI 99D Senior Research', 'COSI 200B Readings', 'COSI 152A Web Application Development', 'COSI 153A Mobile Application Development', \"COSI 293G Master's Research Internship\", 'COSI 164A Introduction to 3-D Animation'}\n",
      "Bayone: \n",
      "{'BUS 10A Business Fundamentals', 'BUS 237F International Real Estate: The Mature Markets', 'BUS 98A Independent Study', 'BUS 98B Independent Study', 'BUS 235F Real Estate Fundamentals', 'FIN 242F Credit Risk Analysis'}\n"
     ]
    }
   ],
   "source": [
    "profOne = input(\"First Professor?\")\n",
    "profTwo = input(\"Second Professor?\")\n",
    "\n",
    "setterOne = set(())\n",
    "setterTwo = set(())\n",
    "\n",
    "for x in courses:\n",
    "    if x['instructor'][1] == profOne:\n",
    "        setterOne.add(x['subject'] + \" \" + x['coursenum'] + \" \" +  x['name'])\n",
    "for x in courses:\n",
    "    if x['instructor'][1] == profTwo:\n",
    "        setterTwo.add(x['subject'] + \" \" + x['coursenum'] + \" \" + x['name'])\n",
    "print(str(profOne) + \": \\n\" + str(setterOne))\n",
    "\n",
    "print(str(profTwo) + \": \\n\" + str(setterTwo))"
   ]
  },
  {
   "cell_type": "markdown",
   "metadata": {},
   "source": [
    "title(self,phrase) -- filters courses containing the phrase in their title\n"
   ]
  },
  {
   "cell_type": "code",
   "execution_count": 14,
   "metadata": {
    "tags": []
   },
   "outputs": [
    {
     "name": "stdout",
     "output_type": "stream",
     "text": [
      "Introduction to Microeconomics in Global Health\n",
      "['Introduction to Microeconomics in Global Health', 'Kingian Nonviolence and Reconciliation', 'Advanced Microeconomics I', 'Advanced Macroeconomics I', 'Computational Linguistics Second Year Seminar']\n"
     ]
    }
   ],
   "source": [
    "phrase = 'econ'\n",
    "titled = [c['name'] for c in courses if phrase in c['name']]\n",
    "print(titled[0])\n",
    "\n",
    "\n",
    "def title(phrase):\n",
    "    titled = [c['name'] for c in courses if phrase in c['name']]\n",
    "    return titled\n",
    "\n",
    "print(title('econ')[:5])"
   ]
  },
  {
   "cell_type": "markdown",
   "metadata": {},
   "source": [
    "description(self,phrase) - filters courses containing the phrase in the description"
   ]
  },
  {
   "cell_type": "code",
   "execution_count": 15,
   "metadata": {},
   "outputs": [
    {
     "name": "stdout",
     "output_type": "stream",
     "text": [
      "['Jewish Community and Jewish Identity', 'Democracy and Development', 'Evaluating Survey Data Using Stata: Questioning Answers', 'Introduction to Microeconomics in Global Health', 'Financial Statement Analysis']\n"
     ]
    }
   ],
   "source": [
    "def description(phrase):\n",
    "    descripted = [c['name'] for c in courses if phrase in c['description']]\n",
    "    return descripted\n",
    "\n",
    "print(description('econ')[:5])"
   ]
  },
  {
   "cell_type": "markdown",
   "metadata": {},
   "source": [
    "description -- filter by phrase in the description\n"
   ]
  },
  {
   "cell_type": "code",
   "execution_count": 16,
   "metadata": {},
   "outputs": [
    {
     "name": "stdout",
     "output_type": "stream",
     "text": [
      "['Jewish Community and Jewish Identity', 'Democracy and Development', 'Evaluating Survey Data Using Stata: Questioning Answers', 'Introduction to Microeconomics in Global Health', 'Financial Statement Analysis']\n"
     ]
    }
   ],
   "source": [
    "def description(phrase):\n",
    "    descripted = [c['name'] for c in courses if phrase in c['description']]\n",
    "    return descripted\n",
    "\n",
    "print(description('econ')[:5])"
   ]
  },
  {
   "cell_type": "markdown",
   "metadata": {},
   "source": [
    "personal filter - check if it is an independent study"
   ]
  },
  {
   "cell_type": "code",
   "execution_count": null,
   "metadata": {},
   "outputs": [],
   "source": [
    "def independent(self, phrase):\n",
    "        '''search the course list to find phrase in description(created by Pedro)'''\n",
    "        return Schedule([c for c in self.courses if phrase == c['independent_study']])\n",
    "\n",
    "elif command in ['in', 'independent']:\n",
    "            '''created by Pedro'''\n",
    "            phrase = input(\"Are you searching for independent studies? <y/n>\")\n",
    "            schedule = schedule.independent(phrase)"
   ]
  },
  {
   "cell_type": "markdown",
   "metadata": {
    "tags": []
   },
   "source": [
    "<h1>Fritz</h1>\n",
    "Create a list of tuples (E,S) where S is a subject and E is the number of students enrolled in courses in that subject, sort it and print the top 10.\n",
    "\n",
    "Do the same as in (d) but print the top 10 subjects in terms of number of courses offered.\n",
    "\n",
    "Do the same as (d) but print the top 10 subjects in terms of number of faculty teaching courses in that subject.\n",
    "\n",
    "Create your own interesting question (each team member creates their own) and use Python to answer that question.\n"
   ]
  },
  {
   "cell_type": "code",
   "execution_count": 17,
   "metadata": {},
   "outputs": [
    {
     "name": "stdout",
     "output_type": "stream",
     "text": [
      "[('HS', 5318), ('BIOL', 3085), ('BUS', 2766), ('HWL', 2734), ('CHEM', 2322), ('ECON', 2315), ('COSI', 2223), ('MATH', 1785), ('PSYC', 1704), ('ANTH', 1144)]\n"
     ]
    }
   ],
   "source": [
    "diction = {}\n",
    "for x in courses:\n",
    "    # add the number of people enrolled into a dictionary\n",
    "    if x['subject'] not in diction:\n",
    "        diction[x['subject']] = x['enrolled']\n",
    "    else:\n",
    "        diction[x['subject']] += x['enrolled']\n",
    "# sorts and prints out dictionary in a list of tuples\n",
    "dictionary = dict(sorted(diction.items(), reverse=True, key=lambda item: item[1]))\n",
    "print(list(dictionary.items())[:10])"
   ]
  },
  {
   "cell_type": "code",
   "execution_count": 18,
   "metadata": {},
   "outputs": [
    {
     "name": "stdout",
     "output_type": "stream",
     "text": [
      "[('BIOL', 613), ('HIST', 498), ('PSYC', 417), ('NEUR', 403), ('BCHM', 296), ('PHYS', 288), ('HS', 274), ('COSI', 272), ('MUS', 266), ('ENG', 265)]\n"
     ]
    }
   ],
   "source": [
    "diction = {}\n",
    "for x in courses:\n",
    "    # adding 1 to show the number of courses\n",
    "    if x['subject'] not in diction:\n",
    "        diction[x['subject']] = 1\n",
    "    else:\n",
    "        diction[x['subject']] += 1\n",
    "# sorts and prints out dictionary in a list of tuples\n",
    "dictionary = dict(sorted(diction.items(), reverse=True, key=lambda item: item[1]))\n",
    "print(list(dictionary.items())[:10])"
   ]
  },
  {
   "cell_type": "code",
   "execution_count": 19,
   "metadata": {},
   "outputs": [
    {
     "name": "stdout",
     "output_type": "stream",
     "text": [
      "[('HS', 90), ('BIOL', 70), ('ECON', 53), ('BCHM', 52), ('BUS', 50), ('HIST', 50), ('BCBP', 49), ('HWL', 45), ('MATH', 40), ('NEJS', 40)]\n"
     ]
    }
   ],
   "source": [
    "diction = {}\n",
    "for x in courses:\n",
    "    # adding instructors into a set to remove repeats\n",
    "    if x['subject'] not in diction:\n",
    "        diction[x['subject']] = set(x['instructor'])\n",
    "    else:\n",
    "        diction[x['subject']].add(x['instructor'])\n",
    "# setting the values of the dictionary to the length of the set\n",
    "for key in diction.keys():\n",
    "    diction[key] = len(diction[key])\n",
    "# sorts and prints out dictionary in a list of tuples\n",
    "dictionary = dict(sorted(diction.items(), reverse=True, key=lambda item: item[1]))\n",
    "print(list(dictionary.items())[:10])"
   ]
  },
  {
   "cell_type": "markdown",
   "metadata": {},
   "source": [
    "Interesting Question: Which subjects have the shortest class descriptions (sorted based on how many characters are in the description)? \n",
    "Sort and print the top 10"
   ]
  },
  {
   "cell_type": "code",
   "execution_count": 20,
   "metadata": {},
   "outputs": [
    {
     "name": "stdout",
     "output_type": "stream",
     "text": [
      "[('AAPI', 37), ('MERS', 66), ('GS', 126), ('HOID', 132), ('HUM', 220), ('CLAS/ENG', 222), ('GECS', 262), ('ECS/ENG', 346), ('CLAS/NEJ', 356), ('PMED', 380)]\n"
     ]
    }
   ],
   "source": [
    "diction = {}\n",
    "for x in courses:\n",
    "    # adding length of descriptions into a dictionary\n",
    "    if x['subject'] not in diction:\n",
    "        diction[x['subject']] = len(x['description'])\n",
    "    else:\n",
    "        diction[x['subject']] += len(x['description'])\n",
    "# sorts and prints out dictionary in a list of tuples\n",
    "dictionary = dict(sorted(diction.items(), key=lambda item: item[1]))\n",
    "print(list(dictionary.items())[:10])"
   ]
  },
  {
   "cell_type": "markdown",
   "metadata": {
    "tags": []
   },
   "source": [
    "<h1>John</h1>\n",
    "\n",
    "What is the total number of students taking COSI courses last year?\n",
    "\n",
    "How many faculty taught COSI courses last year?\n",
    "\n",
    "what was the median size of a COSI course last year (counting only those courses with at least 10 students)\n",
    "\n",
    "Create your own interesting question (each team member creates their own) and use Python to answer that question.\n",
    "(What Courses Did Profressor Edward Bayone teach last year)\n",
    "\n",
    "Create your own filter (each team member creates their own)\n",
    "\n"
   ]
  },
  {
   "cell_type": "code",
   "execution_count": 21,
   "metadata": {},
   "outputs": [
    {
     "name": "stdout",
     "output_type": "stream",
     "text": [
      "2223\n"
     ]
    }
   ],
   "source": [
    "total = 0\n",
    "for x in courses:\n",
    "    if x['subject'] == \"COSI\":\n",
    "        total+=x['enrolled']\n",
    "print(total)\n"
   ]
  },
  {
   "cell_type": "code",
   "execution_count": 22,
   "metadata": {},
   "outputs": [
    {
     "name": "stdout",
     "output_type": "stream",
     "text": [
      "27\n"
     ]
    }
   ],
   "source": [
    "setter = set(())\n",
    "for x in courses:\n",
    "    if x['subject'] == \"COSI\":\n",
    "        setter.add(x['instructor'])\n",
    "print(len(setter))\n"
   ]
  },
  {
   "cell_type": "code",
   "execution_count": 23,
   "metadata": {},
   "outputs": [
    {
     "name": "stdout",
     "output_type": "stream",
     "text": [
      "37\n"
     ]
    }
   ],
   "source": [
    "arr = []\n",
    "for x in courses:\n",
    "    if x['subject'] == \"COSI\" and x['enrolled'] >= 10:\n",
    "        arr.append(x['enrolled'])\n",
    "arr.sort()\n",
    "print(arr[len(arr)//2])"
   ]
  },
  {
   "cell_type": "code",
   "execution_count": 24,
   "metadata": {},
   "outputs": [
    {
     "name": "stdout",
     "output_type": "stream",
     "text": [
      "{'BUS 10A Business Fundamentals', 'BUS 237F International Real Estate: The Mature Markets', 'BUS 98A Independent Study', 'BUS 98B Independent Study', 'BUS 235F Real Estate Fundamentals', 'FIN 242F Credit Risk Analysis'}\n"
     ]
    }
   ],
   "source": [
    "setter = set(())\n",
    "\n",
    "for x in courses:\n",
    "    if x['instructor'][1] == \"Bayone\":\n",
    "        setter.add(x['subject'] + \" \" + x['coursenum'] + \" \" +  x['name'])\n",
    "print(setter)\n",
    "        "
   ]
  },
  {
   "cell_type": "code",
   "execution_count": null,
   "metadata": {},
   "outputs": [],
   "source": []
  },
  {
   "cell_type": "code",
   "execution_count": null,
   "metadata": {},
   "outputs": [],
   "source": []
  }
 ],
 "metadata": {
  "kernelspec": {
   "display_name": "Python 3",
   "language": "python",
   "name": "python3"
  },
  "language_info": {
   "codemirror_mode": {
    "name": "ipython",
    "version": 3
   },
   "file_extension": ".py",
   "mimetype": "text/x-python",
   "name": "python",
   "nbconvert_exporter": "python",
   "pygments_lexer": "ipython3",
   "version": "3.8.8"
  }
 },
 "nbformat": 4,
 "nbformat_minor": 4
}
