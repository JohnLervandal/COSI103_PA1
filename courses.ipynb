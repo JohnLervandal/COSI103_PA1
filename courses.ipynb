{
 "cells": [
  {
   "cell_type": "markdown",
   "metadata": {},
   "source": [
    "# Courses Demo\n",
    "This Jupyter notebook is for exploring the data set courses20-21.json\n",
    "which consists of all Brandeis courses in the 20-21 academic year (Fall20, Spr21, Sum21) \n",
    "which had at least 1 student enrolled.\n",
    "\n",
    "First we need to read the json file into a list of Python dictionaries"
   ]
  },
  {
   "cell_type": "code",
   "execution_count": 1,
   "metadata": {},
   "outputs": [],
   "source": [
    "import json"
   ]
  },
  {
   "cell_type": "code",
   "execution_count": 2,
   "metadata": {},
   "outputs": [],
   "source": [
    "with open(\"courses20-21.json\",\"r\",encoding='utf-8') as jsonfile:\n",
    "    courses = json.load(jsonfile)"
   ]
  },
  {
   "cell_type": "markdown",
   "metadata": {},
   "source": [
    "## Structure of a course\n",
    "Next we look at the fields of each course dictionary and their values"
   ]
  },
  {
   "cell_type": "code",
   "execution_count": 3,
   "metadata": {},
   "outputs": [
    {
     "name": "stdout",
     "output_type": "stream",
     "text": [
      "there are 7813 courses in the dataset\n",
      "here is the data for course 1246\n"
     ]
    },
    {
     "data": {
      "text/plain": [
       "{'limit': 28,\n",
       " 'times': [{'start': 1080, 'end': 1170, 'days': ['w', 'm']}],\n",
       " 'enrolled': 4,\n",
       " 'details': 'Instruction for this course will be offered remotely. Meeting times for this course are listed in the schedule of classes (in ET).',\n",
       " 'type': 'section',\n",
       " 'status_text': 'Open',\n",
       " 'section': '1',\n",
       " 'waiting': 0,\n",
       " 'instructor': ['An', 'Huang', 'anhuang@brandeis.edu'],\n",
       " 'coinstructors': [],\n",
       " 'code': ['MATH', '223A'],\n",
       " 'subject': 'MATH',\n",
       " 'coursenum': '223A',\n",
       " 'name': 'Lie Algebras: Representation Theory',\n",
       " 'independent_study': False,\n",
       " 'term': '1203',\n",
       " 'description': \"Theorems of Engel and Lie. Semisimple Lie algebras, Cartan's criterion. Universal enveloping algebras, PBW theorem, Serre's construction. Representation theory. Other topics as time permits. Usually offered every second year.\\nAn Huang\"}"
      ]
     },
     "execution_count": 3,
     "metadata": {},
     "output_type": "execute_result"
    }
   ],
   "source": [
    "print('there are',len(courses),'courses in the dataset')\n",
    "print('here is the data for course 1246')\n",
    "courses[1246]"
   ]
  },
  {
   "cell_type": "markdown",
   "metadata": {},
   "source": [
    "## Cleaning the data\n",
    "If we want to sort courses by instructor or by code, we need to replace the lists with tuples (which are immutable lists)"
   ]
  },
  {
   "cell_type": "code",
   "execution_count": 4,
   "metadata": {},
   "outputs": [],
   "source": [
    "for course in courses:\n",
    "        course['instructor'] = tuple(course['instructor'])\n",
    "        course['coinstructors'] = tuple([tuple(f) for f in course['coinstructors']])\n",
    "        course['code']= tuple(course['code'])"
   ]
  },
  {
   "cell_type": "code",
   "execution_count": 5,
   "metadata": {},
   "outputs": [
    {
     "name": "stdout",
     "output_type": "stream",
     "text": [
      "notice that the instructor and code are tuples now\n"
     ]
    },
    {
     "data": {
      "text/plain": [
       "{'limit': 28,\n",
       " 'times': [{'start': 1080, 'end': 1170, 'days': ['w', 'm']}],\n",
       " 'enrolled': 4,\n",
       " 'details': 'Instruction for this course will be offered remotely. Meeting times for this course are listed in the schedule of classes (in ET).',\n",
       " 'type': 'section',\n",
       " 'status_text': 'Open',\n",
       " 'section': '1',\n",
       " 'waiting': 0,\n",
       " 'instructor': ('An', 'Huang', 'anhuang@brandeis.edu'),\n",
       " 'coinstructors': (),\n",
       " 'code': ('MATH', '223A'),\n",
       " 'subject': 'MATH',\n",
       " 'coursenum': '223A',\n",
       " 'name': 'Lie Algebras: Representation Theory',\n",
       " 'independent_study': False,\n",
       " 'term': '1203',\n",
       " 'description': \"Theorems of Engel and Lie. Semisimple Lie algebras, Cartan's criterion. Universal enveloping algebras, PBW theorem, Serre's construction. Representation theory. Other topics as time permits. Usually offered every second year.\\nAn Huang\"}"
      ]
     },
     "execution_count": 5,
     "metadata": {},
     "output_type": "execute_result"
    }
   ],
   "source": [
    "print('notice that the instructor and code are tuples now')\n",
    "courses[1246]"
   ]
  },
  {
   "cell_type": "markdown",
   "metadata": {},
   "source": [
    "# Exploring the data set\n",
    "Now we will show how to use straight python to explore the data set and answer some interesting questions. Next week we will start learning Pandas/Numpy which are packages that make it easier to explore large dataset efficiently.\n",
    "\n",
    "Here are some questions we can try to asnwer:\n",
    "* what are all of the subjects of courses (e.g. COSI, MATH, JAPN, PHIL, ...)\n",
    "* which terms are represented?\n",
    "* how many instructors taught at Brandeis last year?\n",
    "* what were the five largest course sections?\n",
    "* what were the five largest courses (where we combine sections)?\n",
    "* which are the five largest subjects measured by number of courses offered?\n",
    "* which are the five largest courses measured by number of students taught?\n",
    "* which course had the most sections taught in 20-21?\n",
    "* who are the top five faculty in terms of number of students taught?\n",
    "* etc."
   ]
  },
  {
   "cell_type": "code",
   "execution_count": 6,
   "metadata": {},
   "outputs": [
    {
     "data": {
      "text/plain": [
       "120"
      ]
     },
     "execution_count": 6,
     "metadata": {},
     "output_type": "execute_result"
    }
   ],
   "source": [
    "len({c['subject'] for c in courses})"
   ]
  },
  {
   "cell_type": "code",
   "execution_count": 7,
   "metadata": {},
   "outputs": [
    {
     "data": {
      "text/plain": [
       "904"
      ]
     },
     "execution_count": 7,
     "metadata": {},
     "output_type": "execute_result"
    }
   ],
   "source": [
    "len({c['instructor'] for c in courses})"
   ]
  },
  {
   "cell_type": "code",
   "execution_count": 8,
   "metadata": {},
   "outputs": [
    {
     "data": {
      "text/plain": [
       "{'AAAS',\n",
       " 'AAAS/HIS',\n",
       " 'AAAS/WGS',\n",
       " 'AAPI',\n",
       " 'AAPI/HIS',\n",
       " 'AAPI/WGS',\n",
       " 'AAS/AAPI',\n",
       " 'AMST',\n",
       " 'AMST/ENG',\n",
       " 'AMST/MUS',\n",
       " 'ANTH',\n",
       " 'ANTH/WGS',\n",
       " 'ARBC',\n",
       " 'BCBP',\n",
       " 'BCHM',\n",
       " 'BIBC',\n",
       " 'BIOL',\n",
       " 'BIOT',\n",
       " 'BIPH',\n",
       " 'BISC',\n",
       " 'BUS',\n",
       " 'BUS/ECON',\n",
       " 'BUS/FIN',\n",
       " 'CA',\n",
       " 'CAST',\n",
       " 'CBIO',\n",
       " 'CHEM',\n",
       " 'CHIN',\n",
       " 'CHSC',\n",
       " 'CLAS',\n",
       " 'CLAS/ENG',\n",
       " 'CLAS/NEJ',\n",
       " 'COMH',\n",
       " 'COML',\n",
       " 'COMP',\n",
       " 'COSI',\n",
       " 'EAS',\n",
       " 'EBIO',\n",
       " 'ECON',\n",
       " 'ECON/FIN',\n",
       " 'ECS',\n",
       " 'ECS/ENG',\n",
       " 'ED',\n",
       " 'EL',\n",
       " 'ENG',\n",
       " 'ENVS',\n",
       " 'ESL',\n",
       " 'FA',\n",
       " 'FILM',\n",
       " 'FIN',\n",
       " 'FREN',\n",
       " 'GECS',\n",
       " 'GER',\n",
       " 'GRK',\n",
       " 'GS',\n",
       " 'HBRW',\n",
       " 'HISP',\n",
       " 'HIST',\n",
       " 'HIST/SOC',\n",
       " 'HIST/WGS',\n",
       " 'HOID',\n",
       " 'HRNS',\n",
       " 'HS',\n",
       " 'HS/POL',\n",
       " 'HSSP',\n",
       " 'HUM',\n",
       " 'HUM/UWS',\n",
       " 'HWL',\n",
       " 'IGS',\n",
       " 'IIM',\n",
       " 'IMES',\n",
       " 'INT',\n",
       " 'ITAL',\n",
       " 'JAPN',\n",
       " 'JOUR',\n",
       " 'KOR',\n",
       " 'LALS',\n",
       " 'LAT',\n",
       " 'LGLS',\n",
       " 'LING',\n",
       " 'MATH',\n",
       " 'MERS',\n",
       " 'MUS',\n",
       " 'NBIO',\n",
       " 'NEJS',\n",
       " 'NEUR',\n",
       " 'NPSY',\n",
       " 'PAX',\n",
       " 'PHIL',\n",
       " 'PHYS',\n",
       " 'PMED',\n",
       " 'POL',\n",
       " 'POL/WGS',\n",
       " 'PSYC',\n",
       " 'QBIO',\n",
       " 'QR',\n",
       " 'RBIF',\n",
       " 'RBOT',\n",
       " 'RCOM',\n",
       " 'RDFT',\n",
       " 'RDMD',\n",
       " 'RECS',\n",
       " 'RECS/THA',\n",
       " 'REL',\n",
       " 'RHIN',\n",
       " 'RIAS',\n",
       " 'RIDT',\n",
       " 'RMGT',\n",
       " 'RPJM',\n",
       " 'RSAN',\n",
       " 'RSEG',\n",
       " 'RUCD',\n",
       " 'RUS',\n",
       " 'SAS',\n",
       " 'SJSP',\n",
       " 'SOC',\n",
       " 'THA',\n",
       " 'UWS',\n",
       " 'WGS',\n",
       " 'YDSH'}"
      ]
     },
     "execution_count": 8,
     "metadata": {},
     "output_type": "execute_result"
    }
   ],
   "source": [
    "{c['subject']for c in courses}"
   ]
  },
  {
   "cell_type": "code",
   "execution_count": 9,
   "metadata": {},
   "outputs": [
    {
     "data": {
      "text/plain": [
       "{'1203', '1211', '1212'}"
      ]
     },
     "execution_count": 9,
     "metadata": {},
     "output_type": "execute_result"
    }
   ],
   "source": [
    "{c['term']for c in courses}"
   ]
  },
  {
   "cell_type": "code",
   "execution_count": 10,
   "metadata": {},
   "outputs": [
    {
     "data": {
      "text/plain": [
       "[(784, 'Introduction to Navigating Health and Safety'),\n",
       " (186, 'Organic Chemistry I'),\n",
       " (186, 'Physiology'),\n",
       " (181, 'Cells and Organisms'),\n",
       " (180, 'Organic Chemistry II')]"
      ]
     },
     "execution_count": 10,
     "metadata": {},
     "output_type": "execute_result"
    }
   ],
   "source": [
    "enrollment = sorted(courses, key = lambda course: -course['enrolled'])\n",
    "[(courses['enrolled'], courses['name']) for courses in enrollment[:5]]"
   ]
  },
  {
   "cell_type": "markdown",
   "metadata": {},
   "source": [
    "**<h1>Matthew</h1>**\n",
    "list the top 20 faculty in terms of number of students they taught\n",
    "\n",
    "list the top 20 courses in terms of number of students taking that course (where you combine different sections and semesters, i.e. just use the subject and course number)\n",
    "\n",
    "Create your own interesting question (each team member creates their own) and use Python to answer that question.\n",
    "\n",
    "Create your own filter (each team member creates their own\n"
   ]
  },
  {
   "cell_type": "code",
   "execution_count": 16,
   "metadata": {},
   "outputs": [
    {
     "data": {
      "text/plain": [
       "[(784, ('Leah', 'Berkenwald', 'leahb@brandeis.edu')),\n",
       " (186, ('Stephanie', 'Murray', 'murray@brandeis.edu')),\n",
       " (186, ('Maria', 'de Boef Miara', 'mmiara@brandeis.edu')),\n",
       " (181, ('Maria', 'de Boef Miara', 'mmiara@brandeis.edu')),\n",
       " (180, ('Stephanie', 'Murray', 'murray@brandeis.edu')),\n",
       " (175, ('Stuart', 'Altman', 'altman@brandeis.edu')),\n",
       " (170, ('Anne S', 'Berry', 'anneberry@brandeis.edu')),\n",
       " (166, ('Ellen J', 'Wright', 'ejwright@brandeis.edu')),\n",
       " (166, ('Timothy J', 'Hickey', 'tjhickey@brandeis.edu')),\n",
       " (150, ('Timothy J', 'Hickey', 'tjhickey@brandeis.edu')),\n",
       " (145, ('Daniel', 'Breen', 'dbreen91@brandeis.edu')),\n",
       " (141, ('Dan L', 'Perlman', 'perlman@brandeis.edu')),\n",
       " (136, ('Colleen', 'Hitchcock', 'hitchcock@brandeis.edu')),\n",
       " (135, ('Teresa Vann', 'Mitchell', 'tmitch@brandeis.edu')),\n",
       " (119, ('Jennifer', 'Gutsell', 'jgutsell@brandeis.edu')),\n",
       " (109, ('Peter', 'Mistark', 'pmistark@brandeis.edu')),\n",
       " (107, ('Peter', 'Mistark', 'pmistark@brandeis.edu')),\n",
       " (105, ('Michael Thomas', 'Marr', 'mmarr@brandeis.edu')),\n",
       " (105, ('Paul', 'DiZio', 'dizio@brandeis.edu')),\n",
       " (104, ('Geoffrey', 'Clarke', 'geoffclarke@brandeis.edu'))]"
      ]
     },
     "execution_count": 16,
     "metadata": {},
     "output_type": "execute_result"
    }
   ],
   "source": [
    "faculty = sorted(courses, key = lambda course: -course['enrolled'])\n",
    "[(courses['enrolled'], courses['instructor']) for courses in faculty[:20]]"
   ]
  },
  {
   "cell_type": "code",
   "execution_count": 20,
   "metadata": {},
   "outputs": [
    {
     "data": {
      "text/plain": [
       "[('HWL', '1-PRE'),\n",
       " ('CHEM', '25A'),\n",
       " ('BIOL', '42A'),\n",
       " ('BIOL', '15B'),\n",
       " ('CHEM', '25B'),\n",
       " ('HS', '104B'),\n",
       " ('PSYC', '10A'),\n",
       " ('PSYC', '10A'),\n",
       " ('COSI', '164A'),\n",
       " ('COSI', '10A'),\n",
       " ('LGLS', '10A'),\n",
       " ('ENVS', '2A'),\n",
       " ('BIOL', '16A'),\n",
       " ('NPSY', '199A'),\n",
       " ('PSYC', '34B'),\n",
       " ('PHYS', '10A'),\n",
       " ('PHYS', '10B'),\n",
       " ('BIOL', '350A'),\n",
       " ('PSYC', '51A'),\n",
       " ('ECON', '10A')]"
      ]
     },
     "execution_count": 20,
     "metadata": {},
     "output_type": "execute_result"
    }
   ],
   "source": [
    "enrollment = sorted(courses, key = lambda course: -course['enrolled'])\n",
    "[(courses['subject'], courses['coursenum']) for courses in enrollment[:20]]"
   ]
  },
  {
   "cell_type": "markdown",
   "metadata": {},
   "source": [
    "Interesting question: Classes with the smallest limit"
   ]
  },
  {
   "cell_type": "code",
   "execution_count": 23,
   "metadata": {},
   "outputs": [
    {
     "ename": "TypeError",
     "evalue": "'NoneType' object is not subscriptable",
     "output_type": "error",
     "traceback": [
      "\u001b[0;31m---------------------------------------------------------------------------\u001b[0m",
      "\u001b[0;31mTypeError\u001b[0m                                 Traceback (most recent call last)",
      "\u001b[0;32m<ipython-input-23-91b31d1d0622>\u001b[0m in \u001b[0;36m<module>\u001b[0;34m\u001b[0m\n\u001b[0;32m----> 1\u001b[0;31m \u001b[0mlim\u001b[0m \u001b[0;34m=\u001b[0m \u001b[0;34m[\u001b[0m\u001b[0;34m(\u001b[0m\u001b[0mcourses\u001b[0m\u001b[0;34m[\u001b[0m\u001b[0;34m'subject'\u001b[0m\u001b[0;34m]\u001b[0m\u001b[0;34m,\u001b[0m \u001b[0mcourses\u001b[0m\u001b[0;34m[\u001b[0m\u001b[0;34m'coursenum'\u001b[0m\u001b[0;34m]\u001b[0m\u001b[0;34m)\u001b[0m \u001b[0;32mfor\u001b[0m \u001b[0mcourses\u001b[0m \u001b[0;32min\u001b[0m \u001b[0mcourse\u001b[0m\u001b[0;34m[\u001b[0m\u001b[0;34m'limit'\u001b[0m\u001b[0;34m]\u001b[0m\u001b[0;34m[\u001b[0m\u001b[0;34m:\u001b[0m\u001b[0;36m5\u001b[0m\u001b[0;34m]\u001b[0m\u001b[0;34m]\u001b[0m\u001b[0;34m.\u001b[0m\u001b[0msort\u001b[0m\u001b[0;34m(\u001b[0m\u001b[0mkey\u001b[0m\u001b[0;34m=\u001b[0m\u001b[0;32mlambda\u001b[0m \u001b[0me\u001b[0m\u001b[0;34m:\u001b[0m \u001b[0;34m(\u001b[0m\u001b[0me\u001b[0m \u001b[0;32mis\u001b[0m \u001b[0;32mNone\u001b[0m\u001b[0;34m,\u001b[0m \u001b[0me\u001b[0m\u001b[0;34m)\u001b[0m\u001b[0;34m)\u001b[0m\u001b[0;34m\u001b[0m\u001b[0;34m\u001b[0m\u001b[0m\n\u001b[0m",
      "\u001b[0;31mTypeError\u001b[0m: 'NoneType' object is not subscriptable"
     ]
    }
   ],
   "source": [
    "#still figuring this out\n",
    "#lim = [(courses['subject'], courses['coursenum']) for courses in course['limit'][:5]].sort(key=lambda e: (e is None, e))"
   ]
  },
  {
   "cell_type": "markdown",
   "metadata": {
    "tags": []
   },
   "source": [
    "<h1>Pedro</h1>\n",
    "Create your own interesting question (each team member creates their own) and use Python to answer that question. (Choosing two Professors, compare the classes the professor taught?)"
   ]
  },
  {
   "cell_type": "code",
   "execution_count": 13,
   "metadata": {},
   "outputs": [
    {
     "ename": "NameError",
     "evalue": "name 'profOne' is not defined",
     "output_type": "error",
     "traceback": [
      "\u001b[1;31m---------------------------------------------------------------------------\u001b[0m",
      "\u001b[1;31mNameError\u001b[0m                                 Traceback (most recent call last)",
      "Input \u001b[1;32mIn [13]\u001b[0m, in \u001b[0;36m<module>\u001b[1;34m\u001b[0m\n\u001b[0;32m      5\u001b[0m setterTwo \u001b[38;5;241m=\u001b[39m \u001b[38;5;28mset\u001b[39m(())\n\u001b[0;32m      7\u001b[0m \u001b[38;5;28;01mfor\u001b[39;00m x \u001b[38;5;129;01min\u001b[39;00m courses:\n\u001b[1;32m----> 8\u001b[0m     \u001b[38;5;28;01mif\u001b[39;00m x[\u001b[38;5;124m'\u001b[39m\u001b[38;5;124minstructor\u001b[39m\u001b[38;5;124m'\u001b[39m][\u001b[38;5;241m1\u001b[39m] \u001b[38;5;241m==\u001b[39m \u001b[43mprofOne\u001b[49m:\n\u001b[0;32m      9\u001b[0m         setterOne\u001b[38;5;241m.\u001b[39madd(x[\u001b[38;5;124m'\u001b[39m\u001b[38;5;124msubject\u001b[39m\u001b[38;5;124m'\u001b[39m] \u001b[38;5;241m+\u001b[39m \u001b[38;5;124m\"\u001b[39m\u001b[38;5;124m \u001b[39m\u001b[38;5;124m\"\u001b[39m \u001b[38;5;241m+\u001b[39m x[\u001b[38;5;124m'\u001b[39m\u001b[38;5;124mcoursenum\u001b[39m\u001b[38;5;124m'\u001b[39m] \u001b[38;5;241m+\u001b[39m \u001b[38;5;124m\"\u001b[39m\u001b[38;5;124m \u001b[39m\u001b[38;5;124m\"\u001b[39m \u001b[38;5;241m+\u001b[39m  x[\u001b[38;5;124m'\u001b[39m\u001b[38;5;124mname\u001b[39m\u001b[38;5;124m'\u001b[39m])\n\u001b[0;32m     10\u001b[0m \u001b[38;5;28;01mfor\u001b[39;00m x \u001b[38;5;129;01min\u001b[39;00m courses:\n",
      "\u001b[1;31mNameError\u001b[0m: name 'profOne' is not defined"
     ]
    }
   ],
   "source": [
    "#profOne = input(\"First Professor?\")\n",
    "#profTwo = input(\"Second Professor?\")\n",
    "\n",
    "setterOne = set(())\n",
    "setterTwo = set(())\n",
    "\n",
    "for x in courses:\n",
    "    if x['instructor'][1] == profOne:\n",
    "        setterOne.add(x['subject'] + \" \" + x['coursenum'] + \" \" +  x['name'])\n",
    "for x in courses:\n",
    "    if x['instructor'][1] == profTwo:\n",
    "        setterTwo.add(x['subject'] + \" \" + x['coursenum'] + \" \" + x['name'])\n",
    "print(str(profOne) + \": \\n\" + str(setterOne))\n",
    "\n",
    "print(str(profTwo) + \": \\n\" + str(setterTwo))"
   ]
  },
  {
   "cell_type": "markdown",
   "metadata": {},
   "source": [
    "title(self,phrase) -- filters courses containing the phrase in their title\n"
   ]
  },
  {
   "cell_type": "code",
   "execution_count": null,
   "metadata": {
    "tags": []
   },
   "outputs": [],
   "source": [
    "phrase = 'econ'\n",
    "titled = [c['name'] for c in courses if phrase in c['name']]\n",
    "print(titled[0])\n",
    "\n",
    "\n",
    "def title(phrase):\n",
    "    titled = [c['name'] for c in courses if phrase in c['name']]\n",
    "    return titled\n",
    "\n",
    "print(title('econ')[:5])"
   ]
  },
  {
   "cell_type": "markdown",
   "metadata": {},
   "source": [
    "description(self,phrase) - filters courses containing the phrase in the description"
   ]
  },
  {
   "cell_type": "code",
   "execution_count": null,
   "metadata": {},
   "outputs": [],
   "source": [
    "def description(phrase):\n",
    "    descripted = [c['name'] for c in courses if phrase in c['description']]\n",
    "    return descripted\n",
    "\n",
    "print(description('econ')[:5])"
   ]
  },
  {
   "cell_type": "markdown",
   "metadata": {},
   "source": [
    "description -- filter by phrase in the description\n"
   ]
  },
  {
   "cell_type": "code",
   "execution_count": null,
   "metadata": {},
   "outputs": [],
   "source": [
    "def description(phrase):\n",
    "    descripted = [c['name'] for c in courses if phrase in c['description']]\n",
    "    return descripted\n",
    "\n",
    "print(description('econ')[:5])"
   ]
  },
  {
   "cell_type": "markdown",
   "metadata": {},
   "source": [
    "Create your own filter(each team member makes their own) filter status of class"
   ]
  },
  {
   "cell_type": "code",
   "execution_count": 30,
   "metadata": {},
   "outputs": [
    {
     "name": "stdout",
     "output_type": "stream",
     "text": [
      "['Readings in Jewish Professional Leadership', 'Readings in Jewish Professional Leadership', 'Readings in Jewish Professional Leadership', 'Readings in Jewish Professional Leadership', 'Readings in Jewish Professional Leadership']\n"
     ]
    }
   ],
   "source": [
    "#elif command in ['s', 'open', 'status', 'closed']:\n",
    "#            major = input(\"Select A Major\")\n",
    "#            classes = schedule.subject(major)\n",
    "#            \n",
    "#            for x in classes:\n",
    "#                if (command == 'open'):\n",
    "#                   if x['status_text'].contains('open'):\n",
    "#                        print(x['subject'] + x['coursenum'] + \" Taught by\" + x['instructor'][0] + \" \" + x['instructor'][1])\n",
    "#                elif (command == 'closed'):\n",
    "#                    if x['status_text'].contains('closed'):\n",
    "#                        print(x['subject'] + x['coursenum'] + \" Taught by\" + x['instructor'][0] + \" \" + x['instructor'][1])\n",
    "#                else:\n",
    "#                    if x['details'].contains('open'):\n",
    "#                        print(x['status_text']+ x['subject'] + x['coursenum'] + \" Taught by\" + x['instructor'][0] + \" \" + x['instructor'][1])\n",
    "#        elif command in ['s', 'status']:\n",
    "#            '''created by Pedro'''\n",
    "#            status = input(\"Open or Closed?\")\n",
    "#            schedule = schedule.state(status) #\n",
    "        \n",
    "test = \"open\"\n",
    "            \n",
    "def state(status):\n",
    "    status_check = [c['name'] for c in courses if status.lower() in c['status_text'].lower()]\n",
    "    return status_check\n",
    "    \n",
    "print(state(test)[:5])"
   ]
  },
  {
   "cell_type": "code",
   "execution_count": null,
   "metadata": {},
   "outputs": [],
   "source": []
  },
  {
   "cell_type": "markdown",
   "metadata": {
    "tags": []
   },
   "source": [
    "<h1>Fritz</h1>\n",
    "Create a list of tuples (E,S) where S is a subject and E is the number of students enrolled in courses in that subject, sort it and print the top 10.\n",
    "\n",
    "Do the same as in (d) but print the top 10 subjects in terms of number of courses offered.\n",
    "\n",
    "Do the same as (d) but print the top 10 subjects in terms of number of faculty teaching courses in that subject.\n",
    "\n",
    "Create your own interesting question (each team member creates their own) and use Python to answer that question.\n"
   ]
  },
  {
   "cell_type": "code",
   "execution_count": null,
   "metadata": {},
   "outputs": [],
   "source": [
    "diction = {}\n",
    "for x in courses:\n",
    "    # add the number of people enrolled into a dictionary\n",
    "    if x['subject'] not in diction:\n",
    "        diction[x['subject']] = x['enrolled']\n",
    "    else:\n",
    "        diction[x['subject']] += x['enrolled']\n",
    "# sorts and prints out dictionary in a list of tuples\n",
    "dictionary = dict(sorted(diction.items(), reverse=True, key=lambda item: item[1]))\n",
    "print(list(dictionary.items())[:10])"
   ]
  },
  {
   "cell_type": "code",
   "execution_count": null,
   "metadata": {},
   "outputs": [],
   "source": [
    "diction = {}\n",
    "for x in courses:\n",
    "    # adding 1 to show the number of courses\n",
    "    if x['subject'] not in diction:\n",
    "        diction[x['subject']] = 1\n",
    "    else:\n",
    "        diction[x['subject']] += 1\n",
    "# sorts and prints out dictionary in a list of tuples\n",
    "dictionary = dict(sorted(diction.items(), reverse=True, key=lambda item: item[1]))\n",
    "print(list(dictionary.items())[:10])"
   ]
  },
  {
   "cell_type": "code",
   "execution_count": null,
   "metadata": {},
   "outputs": [],
   "source": [
    "diction = {}\n",
    "for x in courses:\n",
    "    # adding instructors into a set to remove repeats\n",
    "    if x['subject'] not in diction:\n",
    "        diction[x['subject']] = set(x['instructor'])\n",
    "    else:\n",
    "        diction[x['subject']].add(x['instructor'])\n",
    "# setting the values of the dictionary to the length of the set\n",
    "for key in diction.keys():\n",
    "    diction[key] = len(diction[key])\n",
    "# sorts and prints out dictionary in a list of tuples\n",
    "dictionary = dict(sorted(diction.items(), reverse=True, key=lambda item: item[1]))\n",
    "print(list(dictionary.items())[:10])"
   ]
  },
  {
   "cell_type": "markdown",
   "metadata": {},
   "source": [
    "Interesting Question: Which subjects have the shortest class descriptions (sorted based on how many characters are in the description)? \n",
    "Sort and print the top 10"
   ]
  },
  {
   "cell_type": "code",
   "execution_count": null,
   "metadata": {},
   "outputs": [],
   "source": [
    "diction = {}\n",
    "for x in courses:\n",
    "    # adding length of descriptions into a dictionary\n",
    "    if x['subject'] not in diction:\n",
    "        diction[x['subject']] = len(x['description'])\n",
    "    else:\n",
    "        diction[x['subject']] += len(x['description'])\n",
    "# sorts and prints out dictionary in a list of tuples\n",
    "dictionary = dict(sorted(diction.items(), key=lambda item: item[1]))\n",
    "print(list(dictionary.items())[:10])"
   ]
  },
  {
   "cell_type": "markdown",
   "metadata": {
    "tags": []
   },
   "source": [
    "<h1>John</h1>\n",
    "\n",
    "What is the total number of students taking COSI courses last year?\n",
    "\n",
    "How many faculty taught COSI courses last year?\n",
    "\n",
    "what was the median size of a COSI course last year (counting only those courses with at least 10 students)\n",
    "\n",
    "Create your own interesting question (each team member creates their own) and use Python to answer that question.\n",
    "(What Courses Did Profressor Edward Bayone teach last year)\n",
    "\n",
    "Create your own filter (each team member creates their own)\n",
    "\n"
   ]
  },
  {
   "cell_type": "code",
   "execution_count": null,
   "metadata": {},
   "outputs": [],
   "source": [
    "total = 0\n",
    "for x in courses:\n",
    "    if x['subject'] == \"COSI\":\n",
    "        total+=x['enrolled']\n",
    "print(total)\n"
   ]
  },
  {
   "cell_type": "code",
   "execution_count": null,
   "metadata": {},
   "outputs": [],
   "source": [
    "setter = set(())\n",
    "for x in courses:\n",
    "    if x['subject'] == \"COSI\":\n",
    "        setter.add(x['instructor'])\n",
    "print(len(setter))\n"
   ]
  },
  {
   "cell_type": "code",
   "execution_count": null,
   "metadata": {},
   "outputs": [],
   "source": [
    "arr = []\n",
    "for x in courses:\n",
    "    if x['subject'] == \"COSI\" and x['enrolled'] >= 10:\n",
    "        arr.append(x['enrolled'])\n",
    "arr.sort()\n",
    "print(arr[len(arr)//2])"
   ]
  },
  {
   "cell_type": "code",
   "execution_count": null,
   "metadata": {},
   "outputs": [],
   "source": [
    "setter = set(())\n",
    "\n",
    "for x in courses:\n",
    "    if x['instructor'][1] == \"Bayone\":\n",
    "        setter.add(x['subject'] + \" \" + x['coursenum'] + \" \" +  x['name'])\n",
    "print(setter)\n",
    "        "
   ]
  },
  {
   "cell_type": "code",
   "execution_count": 4,
   "metadata": {},
   "outputs": [
    {
     "name": "stdin",
     "output_type": "stream",
     "text": [
      "Select A Major COSI\n"
     ]
    },
    {
     "ename": "NameError",
     "evalue": "name 'schedule' is not defined",
     "output_type": "error",
     "traceback": [
      "\u001b[1;31m---------------------------------------------------------------------------\u001b[0m",
      "\u001b[1;31mNameError\u001b[0m                                 Traceback (most recent call last)",
      "Input \u001b[1;32mIn [4]\u001b[0m, in \u001b[0;36m<module>\u001b[1;34m\u001b[0m\n\u001b[0;32m      1\u001b[0m major \u001b[38;5;241m=\u001b[39m \u001b[38;5;28minput\u001b[39m(\u001b[38;5;124m\"\u001b[39m\u001b[38;5;124mSelect A Major\u001b[39m\u001b[38;5;124m\"\u001b[39m)\n\u001b[1;32m----> 2\u001b[0m classes \u001b[38;5;241m=\u001b[39m \u001b[43mschedule\u001b[49m\u001b[38;5;241m.\u001b[39msubject(major)\n\u001b[0;32m      3\u001b[0m \u001b[38;5;28;01mfor\u001b[39;00m x \u001b[38;5;129;01min\u001b[39;00m classes:\n\u001b[0;32m      4\u001b[0m     \u001b[38;5;28;01mif\u001b[39;00m x[\u001b[38;5;124m'\u001b[39m\u001b[38;5;124mdetails\u001b[39m\u001b[38;5;124m'\u001b[39m]\u001b[38;5;241m.\u001b[39mcontains(\u001b[38;5;124m'\u001b[39m\u001b[38;5;124monline\u001b[39m\u001b[38;5;124m'\u001b[39m):\n",
      "\u001b[1;31mNameError\u001b[0m: name 'schedule' is not defined"
     ]
    }
   ],
   "source": [
    "major = input(\"Select A Major\")\n",
    "classes = schedule.subject(major)\n",
    "for x in classes:\n",
    "    if x['details'].contains('online'):\n",
    "        print(x['subject'] + x['coursenum'] + \" Taught by\" + x['instructor'][0] + \" \" + x['instructor'][1])"
   ]
  },
  {
   "cell_type": "code",
   "execution_count": null,
   "metadata": {},
   "outputs": [],
   "source": []
  }
 ],
 "metadata": {
  "kernelspec": {
   "display_name": "Python 3",
   "language": "python",
   "name": "python3"
  },
  "language_info": {
   "codemirror_mode": {
    "name": "ipython",
    "version": 3
   },
   "file_extension": ".py",
   "mimetype": "text/x-python",
   "name": "python",
   "nbconvert_exporter": "python",
   "pygments_lexer": "ipython3",
<<<<<<< Updated upstream
   "version": "3.10.2"
=======
   "version": "3.8.8"
>>>>>>> Stashed changes
  }
 },
 "nbformat": 4,
 "nbformat_minor": 4
}
