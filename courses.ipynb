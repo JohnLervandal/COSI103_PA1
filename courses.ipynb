{
 "cells": [
  {
   "cell_type": "markdown",
   "metadata": {},
   "source": [
    "# Courses Demo\n",
    "This Jupyter notebook is for exploring the data set courses20-21.json\n",
    "which consists of all Brandeis courses in the 20-21 academic year (Fall20, Spr21, Sum21) \n",
    "which had at least 1 student enrolled.\n",
    "\n",
    "First we need to read the json file into a list of Python dictionaries"
   ]
  },
  {
   "cell_type": "code",
   "execution_count": null,
   "metadata": {},
   "outputs": [],
   "source": [
    "import json"
   ]
  },
  {
   "cell_type": "code",
   "execution_count": null,
   "metadata": {},
   "outputs": [],
   "source": [
    "with open(\"courses20-21.json\",\"r\",encoding='utf-8') as jsonfile:\n",
    "    courses = json.load(jsonfile)"
   ]
  },
  {
   "cell_type": "markdown",
   "metadata": {},
   "source": [
    "## Structure of a course\n",
    "Next we look at the fields of each course dictionary and their values"
   ]
  },
  {
   "cell_type": "code",
   "execution_count": null,
   "metadata": {},
   "outputs": [],
   "source": [
    "print('there are',len(courses),'courses in the dataset')\n",
    "print('here is the data for course 1246')\n",
    "courses[1246]"
   ]
  },
  {
   "cell_type": "markdown",
   "metadata": {},
   "source": [
    "## Cleaning the data\n",
    "If we want to sort courses by instructor or by code, we need to replace the lists with tuples (which are immutable lists)"
   ]
  },
  {
   "cell_type": "code",
   "execution_count": null,
   "metadata": {},
   "outputs": [],
   "source": [
    "for course in courses:\n",
    "        course['instructor'] = tuple(course['instructor'])\n",
    "        course['coinstructors'] = tuple([tuple(f) for f in course['coinstructors']])\n",
    "        course['code']= tuple(course['code'])"
   ]
  },
  {
   "cell_type": "code",
   "execution_count": null,
   "metadata": {},
   "outputs": [],
   "source": [
    "print('notice that the instructor and code are tuples now')\n",
    "courses[1246]"
   ]
  },
  {
   "cell_type": "markdown",
   "metadata": {},
   "source": [
    "# Exploring the data set\n",
    "Now we will show how to use straight python to explore the data set and answer some interesting questions. Next week we will start learning Pandas/Numpy which are packages that make it easier to explore large dataset efficiently.\n",
    "\n",
    "Here are some questions we can try to asnwer:\n",
    "* what are all of the subjects of courses (e.g. COSI, MATH, JAPN, PHIL, ...)\n",
    "* which terms are represented?\n",
    "* how many instructors taught at Brandeis last year?\n",
    "* what were the five largest course sections?\n",
    "* what were the five largest courses (where we combine sections)?\n",
    "* which are the five largest subjects measured by number of courses offered?\n",
    "* which are the five largest courses measured by number of students taught?\n",
    "* which course had the most sections taught in 20-21?\n",
    "* who are the top five faculty in terms of number of students taught?\n",
    "* etc."
   ]
  },
  {
   "cell_type": "code",
   "execution_count": null,
   "metadata": {},
   "outputs": [],
   "source": [
    "len({c['subject'] for c in courses})"
   ]
  },
  {
   "cell_type": "code",
   "execution_count": null,
   "metadata": {},
   "outputs": [],
   "source": [
    "len({c['instructor'] for c in courses})"
   ]
  },
  {
   "cell_type": "code",
   "execution_count": null,
   "metadata": {},
   "outputs": [],
   "source": [
    "{c['subject']for c in courses}"
   ]
  },
  {
   "cell_type": "code",
   "execution_count": null,
   "metadata": {},
   "outputs": [],
   "source": [
    "{c['term']for c in courses}"
   ]
  },
  {
   "cell_type": "code",
   "execution_count": null,
   "metadata": {},
   "outputs": [],
   "source": [
    "enrollment = sorted(courses, key = lambda course: -course['enrolled'])\n",
    "[(courses['enrolled'], courses['name']) for courses in enrollment[:5]]"
   ]
  },
  {
   "cell_type": "markdown",
   "metadata": {},
   "source": [
    "title(self,phrase) -- filters courses containing the phrase in their title\n"
   ]
  },
  {
   "cell_type": "markdown",
   "metadata": {},
   "source": [
    "<h1> 5A: What is the total number of students taking COSI courses last year? </h1>\n",
    "(Done By John)"
   ]
  },
  {
   "cell_type": "code",
   "execution_count": null,
   "metadata": {},
   "outputs": [],
   "source": [
    "total = 0\n",
    "for x in courses:\n",
    "    if x['subject'] == \"COSI\":\n",
    "        total+=x['enrolled']\n",
    "print(total)\n"
   ]
  },
  {
   "cell_type": "markdown",
   "metadata": {},
   "source": [
    "<h1> 5B: How many faculty taught COSI courses last year? </h1>\n",
    "(Done By John)"
   ]
  },
  {
   "cell_type": "code",
   "execution_count": null,
   "metadata": {},
   "outputs": [],
   "source": [
    "setter = set(())\n",
    "for x in courses:\n",
    "    if x['subject'] == \"COSI\":\n",
    "        setter.add(x['instructor'])\n",
    "print(len(setter))\n"
   ]
  },
  {
   "cell_type": "markdown",
   "metadata": {},
   "source": [
    "<h1> 5C: What was the median size of a COSI course last year (counting only those courses with at least 10 students) </h1>\n",
    "(Done By John)"
   ]
  },
  {
   "cell_type": "code",
   "execution_count": null,
   "metadata": {},
   "outputs": [],
   "source": [
    "arr = []\n",
    "for x in courses:\n",
    "    if x['subject'] == \"COSI\" and x['enrolled'] >= 10:\n",
    "        arr.append(x['enrolled'])\n",
    "arr.sort()\n",
    "print(arr[len(arr)//2])"
   ]
  },
  {
   "cell_type": "markdown",
   "metadata": {},
   "source": [
    "<h1> 5D: Create a list of tuples (E,S) where S is a subject and E is the number of students enrolled in courses in that subject, sort it and print the top 10. </h1>\n",
    "(Done By Fritz)"
   ]
  },
  {
   "cell_type": "code",
   "execution_count": null,
   "metadata": {},
   "outputs": [],
   "source": [
    "diction = {}\n",
    "for x in courses:\n",
    "    # add the number of people enrolled into a dictionary\n",
    "    if x['subject'] not in diction:\n",
    "        diction[x['subject']] = x['enrolled']\n",
    "    else:\n",
    "        diction[x['subject']] += x['enrolled']\n",
    "# sorts and prints out dictionary in a list of tuples\n",
    "dictionary = dict(sorted(diction.items(), reverse=True, key=lambda item: item[1]))\n",
    "new_dict = dict([(value, key) for key, value in dictionary.items()])\n",
    "print(list(new_dict.items())[:10])"
   ]
  },
  {
   "cell_type": "markdown",
   "metadata": {},
   "source": [
    "<h1> 5E: Do the same as in (d) but print the top 10 subjects in terms of number of courses offered. </h1>\n",
    "(Done By Fritz)"
   ]
  },
  {
   "cell_type": "code",
   "execution_count": null,
   "metadata": {},
   "outputs": [],
   "source": [
    "diction = {}\n",
    "for x in courses:\n",
    "    # adding 1 to show the number of courses\n",
    "    if x['subject'] not in diction:\n",
    "        diction[x['subject']] = 1\n",
    "    else:\n",
    "        diction[x['subject']] += 1\n",
    "# sorts and prints out dictionary in a list of tuples\n",
    "dictionary = dict(sorted(diction.items(), reverse=True, key=lambda item: item[1]))\n",
    "new_dict = dict([(value, key) for key, value in dictionary.items()])\n",
    "print(list(new_dict.items())[:10])"
   ]
  },
  {
   "cell_type": "markdown",
   "metadata": {},
   "source": [
    "<h1> 5F: Do the same as (d) but print the top 10 subjects in terms of number of faculty teaching courses in that subject.</h1>\n",
    "(Done By Fritz)"
   ]
  },
  {
   "cell_type": "code",
   "execution_count": null,
   "metadata": {
    "tags": []
   },
   "outputs": [],
   "source": [
    "diction = {}\n",
    "for x in courses:\n",
    "    # adding instructors into a set to remove repeats\n",
    "    if x['subject'] not in diction:\n",
    "        diction[x['subject']] = set(x['instructor'])\n",
    "    else:\n",
    "        diction[x['subject']].add(x['instructor'])\n",
    "# setting the values of the dictionary to the length of the set\n",
    "for key in diction.keys():\n",
    "    diction[key] = len(diction[key])\n",
    "# sorts and prints out dictionary in a list of tuples\n",
    "dictionary = dict(sorted(diction.items(), reverse=True, key=lambda item: item[1]))\n",
    "new_dict = dict([(value, key) for key, value in dictionary.items()])\n",
    "print(list(new_dict.items())[:10])"
   ]
  },
  {
   "cell_type": "markdown",
   "metadata": {},
   "source": [
    "<h1> 5G: List the top 20 faculty in terms of number of students they taught </h1>\n",
    "(Done By Matthew)"
   ]
  },
  {
   "cell_type": "markdown",
   "metadata": {},
   "source": [
    "This was me! (Matthew)"
   ]
  },
  {
   "cell_type": "code",
   "execution_count": null,
   "metadata": {},
   "outputs": [],
   "source": [
    "faculty = {course['instructor'] for course in courses}\n",
    "numperProf = [(sum(course['enrolled'] for course in courses if course['instructor'] == c), c) for c in faculty]\n",
    "numperProf.sort(key = lambda pair: -pair[0])\n",
    "[(professor, number) for (number, professor) in numperProf[:20]]"
   ]
  },
  {
   "cell_type": "markdown",
   "metadata": {},
   "source": [
    "<h1> 5H: List the top 20 courses in terms of number of students taking that course (where you combine different sections and semesters, i.e. just use the subject and course number) </h1>\n",
    "(Done By Matthew)"
   ]
  },
  {
   "cell_type": "code",
   "execution_count": null,
   "metadata": {},
   "outputs": [],
   "source": [
    "enrollment = sorted(courses, key = lambda course: -course['enrolled'])\n",
    "[(courses['subject'], courses['coursenum']) for courses in enrollment[:5]]"
   ]
  },
  {
   "cell_type": "markdown",
   "metadata": {},
   "source": [
    "<h1> Fritz's Interesting Question: Which subjects have the shortest class descriptions (sorted based on how many characters are in the description)? \n",
    "Sort and print the top 10 </h1>"
   ]
  },
  {
   "cell_type": "code",
   "execution_count": null,
   "metadata": {},
   "outputs": [],
   "source": [
    "diction = {}\n",
    "for x in courses:\n",
    "    # adding length of descriptions into a dictionary\n",
    "    if x['subject'] not in diction:\n",
    "        diction[x['subject']] = len(x['description'])\n",
    "    else:\n",
    "        diction[x['subject']] += len(x['description'])\n",
    "# sorts and prints out dictionary in a list of tuples\n",
    "dictionary = dict(sorted(diction.items(), key=lambda item: item[1]))\n",
    "print(list(dictionary.items())[:10])"
   ]
  },
  {
   "cell_type": "markdown",
   "metadata": {},
   "source": [
    "<h1> John's Interesting Question: What courses did Professor Edward Bayone teach last year? </h1>"
   ]
  },
  {
   "cell_type": "code",
   "execution_count": null,
   "metadata": {},
   "outputs": [],
   "source": [
    "setter = set(())\n",
    "\n",
    "for x in courses:\n",
    "    if x['instructor'][1] == \"Bayone\":\n",
    "        setter.add(x['subject'] + \" \" + x['coursenum'] + \" \" +  x['name'])\n",
    "print(setter)\n",
    "        "
   ]
  },
  {
   "cell_type": "markdown",
   "metadata": {},
   "source": [
    "<h1> Matthew's Interesting question: Only find classes that are open </h1>"
   ]
  },
  {
   "cell_type": "code",
   "execution_count": null,
   "metadata": {},
   "outputs": [],
   "source": [
    "[(c['name'], c['status_text']) for c in courses if c['status_text'] == \"Open\"]"
   ]
  },
  {
   "cell_type": "markdown",
   "metadata": {
    "tags": []
   },
   "source": [
    "<h1>Pedro's Interesting Question (Choosing two Professors, compare the classes the professor taught?) </h1>"
   ]
  },
  {
   "cell_type": "code",
   "execution_count": null,
   "metadata": {},
   "outputs": [],
   "source": [
    "profOne = input(\"First Professor?\")\n",
    "profTwo = input(\"Second Professor?\")\n",
    "\n",
    "setterOne = set(())\n",
    "setterTwo = set(())\n",
    "if profOne != '':\n",
    "    for x in courses:\n",
    "        if x['instructor'][1] == profOne:\n",
    "            setterOne.add(x['subject'] + \" \" + x['coursenum'] + \" \" +  x['name'])\n",
    "    for x in courses:\n",
    "        if x['instructor'][1] == profTwo:\n",
    "            setterTwo.add(x['subject'] + \" \" + x['coursenum'] + \" \" + x['name'])\n",
    "    print(str(profOne) + \": \\n\" + str(setterOne))\n",
    "\n",
    "    print(str(profTwo) + \": \\n\" + str(setterTwo))"
   ]
  }
 ],
 "metadata": {
  "kernelspec": {
   "display_name": "Python 3",
   "language": "python",
   "name": "python3"
  },
  "language_info": {
   "codemirror_mode": {
    "name": "ipython",
    "version": 3
   },
   "file_extension": ".py",
   "mimetype": "text/x-python",
   "name": "python",
   "nbconvert_exporter": "python",
   "pygments_lexer": "ipython3",
   "version": "3.8.8"
  }
 },
 "nbformat": 4,
 "nbformat_minor": 4
}
