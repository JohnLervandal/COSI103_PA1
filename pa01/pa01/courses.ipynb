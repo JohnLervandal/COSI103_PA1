{
 "cells": [
  {
   "cell_type": "markdown",
   "metadata": {},
   "source": [
    "# Courses Demo\n",
    "This Jupyter notebook is for exploring the data set courses20-21.json\n",
    "which consists of all Brandeis courses in the 20-21 academic year (Fall20, Spr21, Sum21) \n",
    "which had at least 1 student enrolled.\n",
    "\n",
    "First we need to read the json file into a list of Python dictionaries"
   ]
  },
  {
   "cell_type": "code",
   "execution_count": 11,
   "metadata": {},
   "outputs": [],
   "source": [
    "import json"
   ]
  },
  {
   "cell_type": "code",
   "execution_count": 12,
   "metadata": {},
   "outputs": [],
   "source": [
    "with open(\"courses20-21.json\",\"r\",encoding='utf-8') as jsonfile:\n",
    "    courses = json.load(jsonfile)"
   ]
  },
  {
   "cell_type": "markdown",
   "metadata": {},
   "source": [
    "## Structure of a course\n",
    "Next we look at the fields of each course dictionary and their values"
   ]
  },
  {
   "cell_type": "code",
   "execution_count": 13,
   "metadata": {},
   "outputs": [
    {
     "name": "stdout",
     "output_type": "stream",
     "text": [
      "there are 7813 courses in the dataset\n",
      "here is the data for course 1246\n"
     ]
    },
    {
     "data": {
      "text/plain": [
       "{'limit': 28,\n",
       " 'times': [{'start': 1080, 'end': 1170, 'days': ['w', 'm']}],\n",
       " 'enrolled': 4,\n",
       " 'details': 'Instruction for this course will be offered remotely. Meeting times for this course are listed in the schedule of classes (in ET).',\n",
       " 'type': 'section',\n",
       " 'status_text': 'Open',\n",
       " 'section': '1',\n",
       " 'waiting': 0,\n",
       " 'instructor': ['An', 'Huang', 'anhuang@brandeis.edu'],\n",
       " 'coinstructors': [],\n",
       " 'code': ['MATH', '223A'],\n",
       " 'subject': 'MATH',\n",
       " 'coursenum': '223A',\n",
       " 'name': 'Lie Algebras: Representation Theory',\n",
       " 'independent_study': False,\n",
       " 'term': '1203',\n",
       " 'description': \"Theorems of Engel and Lie. Semisimple Lie algebras, Cartan's criterion. Universal enveloping algebras, PBW theorem, Serre's construction. Representation theory. Other topics as time permits. Usually offered every second year.\\nAn Huang\"}"
      ]
     },
     "execution_count": 13,
     "metadata": {},
     "output_type": "execute_result"
    }
   ],
   "source": [
    "print('there are',len(courses),'courses in the dataset')\n",
    "print('here is the data for course 1246')\n",
    "courses[1246]"
   ]
  },
  {
   "cell_type": "markdown",
   "metadata": {},
   "source": [
    "## Cleaning the data\n",
    "If we want to sort courses by instructor or by code, we need to replace the lists with tuples (which are immutable lists)"
   ]
  },
  {
   "cell_type": "code",
   "execution_count": 14,
   "metadata": {},
   "outputs": [],
   "source": [
    "for course in courses:\n",
    "        course['instructor'] = tuple(course['instructor'])\n",
    "        course['coinstructors'] = tuple([tuple(f) for f in course['coinstructors']])\n",
    "        course['code']= tuple(course['code'])"
   ]
  },
  {
   "cell_type": "code",
   "execution_count": 15,
   "metadata": {},
   "outputs": [
    {
     "name": "stdout",
     "output_type": "stream",
     "text": [
      "notice that the instructor and code are tuples now\n"
     ]
    },
    {
     "data": {
      "text/plain": [
       "{'limit': 28,\n",
       " 'times': [{'start': 1080, 'end': 1170, 'days': ['w', 'm']}],\n",
       " 'enrolled': 4,\n",
       " 'details': 'Instruction for this course will be offered remotely. Meeting times for this course are listed in the schedule of classes (in ET).',\n",
       " 'type': 'section',\n",
       " 'status_text': 'Open',\n",
       " 'section': '1',\n",
       " 'waiting': 0,\n",
       " 'instructor': ('An', 'Huang', 'anhuang@brandeis.edu'),\n",
       " 'coinstructors': (),\n",
       " 'code': ('MATH', '223A'),\n",
       " 'subject': 'MATH',\n",
       " 'coursenum': '223A',\n",
       " 'name': 'Lie Algebras: Representation Theory',\n",
       " 'independent_study': False,\n",
       " 'term': '1203',\n",
       " 'description': \"Theorems of Engel and Lie. Semisimple Lie algebras, Cartan's criterion. Universal enveloping algebras, PBW theorem, Serre's construction. Representation theory. Other topics as time permits. Usually offered every second year.\\nAn Huang\"}"
      ]
     },
     "execution_count": 15,
     "metadata": {},
     "output_type": "execute_result"
    }
   ],
   "source": [
    "print('notice that the instructor and code are tuples now')\n",
    "courses[1246]"
   ]
  },
  {
   "cell_type": "markdown",
   "metadata": {},
   "source": [
    "# Exploring the data set\n",
    "Now we will show how to use straight python to explore the data set and answer some interesting questions. Next week we will start learning Pandas/Numpy which are packages that make it easier to explore large dataset efficiently.\n",
    "\n",
    "Here are some questions we can try to asnwer:\n",
    "* what are all of the subjects of courses (e.g. COSI, MATH, JAPN, PHIL, ...)\n",
    "* which terms are represented?\n",
    "* how many instructors taught at Brandeis last year?\n",
    "* what were the five largest course sections?\n",
    "* what were the five largest courses (where we combine sections)?\n",
    "* which are the five largest subjects measured by number of courses offered?\n",
    "* which are the five largest courses measured by number of students taught?\n",
    "* which course had the most sections taught in 20-21?\n",
    "* who are the top five faculty in terms of number of students taught?\n",
    "* etc."
   ]
  },
  {
   "cell_type": "code",
   "execution_count": 16,
   "metadata": {},
   "outputs": [
    {
     "data": {
      "text/plain": [
       "120"
      ]
     },
     "execution_count": 16,
     "metadata": {},
     "output_type": "execute_result"
    }
   ],
   "source": [
    "len({c['subject'] for c in courses})"
   ]
  },
  {
   "cell_type": "code",
   "execution_count": 17,
   "metadata": {},
   "outputs": [
    {
     "data": {
      "text/plain": [
       "904"
      ]
     },
     "execution_count": 17,
     "metadata": {},
     "output_type": "execute_result"
    }
   ],
   "source": [
    "len({c['instructor'] for c in courses})"
   ]
  },
  {
   "cell_type": "code",
   "execution_count": 18,
   "metadata": {},
   "outputs": [
    {
     "data": {
      "text/plain": [
       "{'AAAS',\n",
       " 'AAAS/HIS',\n",
       " 'AAAS/WGS',\n",
       " 'AAPI',\n",
       " 'AAPI/HIS',\n",
       " 'AAPI/WGS',\n",
       " 'AAS/AAPI',\n",
       " 'AMST',\n",
       " 'AMST/ENG',\n",
       " 'AMST/MUS',\n",
       " 'ANTH',\n",
       " 'ANTH/WGS',\n",
       " 'ARBC',\n",
       " 'BCBP',\n",
       " 'BCHM',\n",
       " 'BIBC',\n",
       " 'BIOL',\n",
       " 'BIOT',\n",
       " 'BIPH',\n",
       " 'BISC',\n",
       " 'BUS',\n",
       " 'BUS/ECON',\n",
       " 'BUS/FIN',\n",
       " 'CA',\n",
       " 'CAST',\n",
       " 'CBIO',\n",
       " 'CHEM',\n",
       " 'CHIN',\n",
       " 'CHSC',\n",
       " 'CLAS',\n",
       " 'CLAS/ENG',\n",
       " 'CLAS/NEJ',\n",
       " 'COMH',\n",
       " 'COML',\n",
       " 'COMP',\n",
       " 'COSI',\n",
       " 'EAS',\n",
       " 'EBIO',\n",
       " 'ECON',\n",
       " 'ECON/FIN',\n",
       " 'ECS',\n",
       " 'ECS/ENG',\n",
       " 'ED',\n",
       " 'EL',\n",
       " 'ENG',\n",
       " 'ENVS',\n",
       " 'ESL',\n",
       " 'FA',\n",
       " 'FILM',\n",
       " 'FIN',\n",
       " 'FREN',\n",
       " 'GECS',\n",
       " 'GER',\n",
       " 'GRK',\n",
       " 'GS',\n",
       " 'HBRW',\n",
       " 'HISP',\n",
       " 'HIST',\n",
       " 'HIST/SOC',\n",
       " 'HIST/WGS',\n",
       " 'HOID',\n",
       " 'HRNS',\n",
       " 'HS',\n",
       " 'HS/POL',\n",
       " 'HSSP',\n",
       " 'HUM',\n",
       " 'HUM/UWS',\n",
       " 'HWL',\n",
       " 'IGS',\n",
       " 'IIM',\n",
       " 'IMES',\n",
       " 'INT',\n",
       " 'ITAL',\n",
       " 'JAPN',\n",
       " 'JOUR',\n",
       " 'KOR',\n",
       " 'LALS',\n",
       " 'LAT',\n",
       " 'LGLS',\n",
       " 'LING',\n",
       " 'MATH',\n",
       " 'MERS',\n",
       " 'MUS',\n",
       " 'NBIO',\n",
       " 'NEJS',\n",
       " 'NEUR',\n",
       " 'NPSY',\n",
       " 'PAX',\n",
       " 'PHIL',\n",
       " 'PHYS',\n",
       " 'PMED',\n",
       " 'POL',\n",
       " 'POL/WGS',\n",
       " 'PSYC',\n",
       " 'QBIO',\n",
       " 'QR',\n",
       " 'RBIF',\n",
       " 'RBOT',\n",
       " 'RCOM',\n",
       " 'RDFT',\n",
       " 'RDMD',\n",
       " 'RECS',\n",
       " 'RECS/THA',\n",
       " 'REL',\n",
       " 'RHIN',\n",
       " 'RIAS',\n",
       " 'RIDT',\n",
       " 'RMGT',\n",
       " 'RPJM',\n",
       " 'RSAN',\n",
       " 'RSEG',\n",
       " 'RUCD',\n",
       " 'RUS',\n",
       " 'SAS',\n",
       " 'SJSP',\n",
       " 'SOC',\n",
       " 'THA',\n",
       " 'UWS',\n",
       " 'WGS',\n",
       " 'YDSH'}"
      ]
     },
     "execution_count": 18,
     "metadata": {},
     "output_type": "execute_result"
    }
   ],
   "source": [
    "{c['subject']for c in courses}"
   ]
  },
  {
   "cell_type": "code",
   "execution_count": 19,
   "metadata": {},
   "outputs": [
    {
     "data": {
      "text/plain": [
       "{'1203', '1211', '1212'}"
      ]
     },
     "execution_count": 19,
     "metadata": {},
     "output_type": "execute_result"
    }
   ],
   "source": [
    "{c['term']for c in courses}"
   ]
  },
  {
   "cell_type": "code",
   "execution_count": 13,
   "metadata": {},
   "outputs": [
    {
     "data": {
      "text/plain": [
       "[(784, 'Introduction to Navigating Health and Safety'),\n",
       " (186, 'Organic Chemistry I'),\n",
       " (186, 'Physiology'),\n",
       " (181, 'Cells and Organisms'),\n",
       " (180, 'Organic Chemistry II')]"
      ]
     },
     "execution_count": 13,
     "metadata": {},
     "output_type": "execute_result"
    }
   ],
   "source": [
    "enrollment = sorted(courses, key = lambda course: -course['enrolled'])\n",
    "[(courses['enrolled'], courses['name']) for courses in enrollment[:5]]"
   ]
  },
  {
   "cell_type": "code",
   "execution_count": null,
   "metadata": {},
   "outputs": [],
   "source": [
    "#Pedro\n",
    "#Create your own interesting question (each team member creates their own) and use Python to answer that question.\n",
    "#title(self,phrase) -- filters courses containing the phrase in their title\n",
    "#description(self,phrase) - filters courses containing the phrase in the description\n",
    "#description -- filter by phrase in the description\n",
    "#Create your own filter (each team member creates their own)\n",
    "\n"
   ]
  }
 ],
 "metadata": {
  "kernelspec": {
   "display_name": "Python 3",
   "language": "python",
   "name": "python3"
  },
  "language_info": {
   "codemirror_mode": {
    "name": "ipython",
    "version": 3
   },
   "file_extension": ".py",
   "mimetype": "text/x-python",
   "name": "python",
   "nbconvert_exporter": "python",
   "pygments_lexer": "ipython3",
   "version": "3.8.8"
  }
 },
 "nbformat": 4,
 "nbformat_minor": 4
}
